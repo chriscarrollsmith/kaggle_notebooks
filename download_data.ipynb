{
 "cells": [
  {
   "cell_type": "markdown",
   "metadata": {},
   "source": [
    "# Downloading competition datasets from Kaggle\n",
    "\n",
    "First, we authenticate with the Kaggle API. Make sure you have your API credentials in the `~/.kaggle` folder. You can get your API credentials from your Kaggle account page."
   ]
  },
  {
   "cell_type": "code",
   "execution_count": 1,
   "metadata": {},
   "outputs": [],
   "source": [
    "from kaggle.api.kaggle_api_extended import KaggleApi\n",
    "from os import path, mkdir\n",
    "\n",
    "kaggleApi = KaggleApi()\n",
    "kaggleApi.authenticate()\n",
    "\n",
    "if not path.exists(path='/kaggle/input/titanic'):\n",
    "    mkdir(path='/kaggle/input/titanic')"
   ]
  },
  {
   "cell_type": "markdown",
   "metadata": {},
   "source": [
    "Through the API, we can view the competitions list to find one we want to participate in."
   ]
  },
  {
   "cell_type": "code",
   "execution_count": 4,
   "metadata": {},
   "outputs": [
    {
     "name": "stdout",
     "output_type": "stream",
     "text": [
      "[https://www.kaggle.com/competitions/titanic, https://www.kaggle.com/competitions/house-prices-advanced-regression-techniques, https://www.kaggle.com/competitions/spaceship-titanic, https://www.kaggle.com/competitions/digit-recognizer, https://www.kaggle.com/competitions/nlp-getting-started, https://www.kaggle.com/competitions/connectx, https://www.kaggle.com/competitions/tpu-getting-started, https://www.kaggle.com/competitions/store-sales-time-series-forecasting, https://www.kaggle.com/competitions/gan-getting-started, https://www.kaggle.com/competitions/contradictory-my-dear-watson]\n"
     ]
    }
   ],
   "source": [
    "competition_list = kaggleApi.competitions_list(category='gettingStarted')\n",
    "print(competition_list)"
   ]
  },
  {
   "cell_type": "markdown",
   "metadata": {},
   "source": [
    "Once we identify a competition we want to participate in, we download the data."
   ]
  },
  {
   "cell_type": "code",
   "execution_count": 5,
   "metadata": {},
   "outputs": [
    {
     "name": "stderr",
     "output_type": "stream",
     "text": [
      "2023-10-24 20:35:11,838 WARNING Retrying (Retry(total=2, connect=None, read=None, redirect=None, status=None)) after connection broken by 'RemoteDisconnected('Remote end closed connection without response')': /api/v1/competitions/data/download-all/titanic\n"
     ]
    }
   ],
   "source": [
    "competition_name = 'titanic'\n",
    "\n",
    "kaggleApi.competition_download_files(competition=competition_name, path=f'/kaggle/input/{competition_name}')"
   ]
  },
  {
   "cell_type": "markdown",
   "metadata": {},
   "source": [
    "The data downloads as a zip file, so we need to unzip it.\n",
    "\n",
    "Finally, we can load the data files we downloaded."
   ]
  },
  {
   "cell_type": "code",
   "execution_count": 6,
   "metadata": {},
   "outputs": [],
   "source": [
    "from shutil import unpack_archive\n",
    "\n",
    "unpack_archive(filename=f'/kaggle/input/{competition_name}/{competition_name}.zip', extract_dir=f'/kaggle/input/{competition_name}')"
   ]
  },
  {
   "cell_type": "markdown",
   "metadata": {},
   "source": [
    "To load the files we downloaded, we can use this code:\n",
    "\n",
    "```python\n",
    "import pandas as pd\n",
    "train = pd.read_csv(f'/kaggle/input/{competition_name}/train.csv')\n",
    "test = pd.read_csv(f'/kaggle/input/{competition_name}/test.csv')\n",
    "```"
   ]
  }
 ],
 "metadata": {
  "kernelspec": {
   "display_name": ".venv",
   "language": "python",
   "name": "python3"
  },
  "language_info": {
   "codemirror_mode": {
    "name": "ipython",
    "version": 3
   },
   "file_extension": ".py",
   "mimetype": "text/x-python",
   "name": "python",
   "nbconvert_exporter": "python",
   "pygments_lexer": "ipython3",
   "version": "3.11.5"
  }
 },
 "nbformat": 4,
 "nbformat_minor": 2
}
