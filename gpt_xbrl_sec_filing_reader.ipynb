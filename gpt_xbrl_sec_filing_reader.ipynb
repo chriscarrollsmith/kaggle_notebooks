{
  "cells": [
    {
      "cell_type": "markdown",
      "metadata": {
        "id": "view-in-github",
        "colab_type": "text"
      },
      "source": [
        "<a href=\"https://colab.research.google.com/github/chriscarrollsmith/kaggle_notebooks/blob/main/gpt_xbrl_sec_filing_reader.ipynb\" target=\"_parent\"><img src=\"https://colab.research.google.com/assets/colab-badge.svg\" alt=\"Open In Colab\"/></a>"
      ]
    },
    {
      "cell_type": "code",
      "execution_count": null,
      "metadata": {
        "id": "PL3cB_KFP_PC"
      },
      "outputs": [],
      "source": [
        "import getpass\n",
        "import os\n",
        "\n",
        "# Set your OpenAI API key\n",
        "os.environ[\"OPENAI_API_KEY\"] = getpass.getpass()"
      ]
    },
    {
      "cell_type": "code",
      "execution_count": null,
      "metadata": {
        "id": "3ZY3GNT4PCA9"
      },
      "outputs": [],
      "source": [
        "!pip install -U -q langchain openai anthropic instructor"
      ]
    },
    {
      "cell_type": "markdown",
      "source": [
        "# Download XBRL data from SEC"
      ],
      "metadata": {
        "id": "CBnDZWxKpLN1"
      }
    },
    {
      "cell_type": "code",
      "source": [
        "import requests\n",
        "\n",
        "# An accession number is a unique identifier to an SEC filing (like a 10-K)\n",
        "def get_accession_numbers(cik: str):\n",
        "    submissions_url = f\"https://data.sec.gov/submissions/CIK{cik}.json\"\n",
        "    submissions_response = requests.get(submissions_url, headers={'User-Agent': 'your-org your@org.com'})\n",
        "    json: dict = submissions_response.json()\n",
        "    filings: dict = json.get(\"filings\", {})\n",
        "    recent_filings: dict = filings.get(\"recent\", {})\n",
        "    forms: List[str] = recent_filings.get(\"form\", [])\n",
        "    accession_numbers: List[str] = recent_filings.get(\"accessionNumber\", [])\n",
        "\n",
        "    # Get the indices of the 10-K\n",
        "    form_indices = []\n",
        "    for index, form in enumerate(forms):\n",
        "        if form == \"10-K\":\n",
        "            form_indices.append(index)\n",
        "\n",
        "    accession_numbers_set = set()\n",
        "    for index in form_indices:\n",
        "        accession_numbers_set.add(accession_numbers[index])\n",
        "\n",
        "    return accession_numbers_set"
      ],
      "metadata": {
        "id": "NY5vYuR4n6IB"
      },
      "execution_count": null,
      "outputs": []
    },
    {
      "cell_type": "code",
      "source": [
        "accession_numbers = get_accession_numbers(\"0001559720\")"
      ],
      "metadata": {
        "id": "S1JquFvYq2e6"
      },
      "execution_count": null,
      "outputs": []
    },
    {
      "cell_type": "code",
      "source": [
        "# Download all XBRL data\n",
        "xbrl = requests.get(\"https://data.sec.gov/api/xbrl/companyfacts/CIK0001559720.json\", headers={'User-Agent': 'your-org your@org.com'})"
      ],
      "metadata": {
        "id": "Kp8zTNIRpNzm"
      },
      "execution_count": null,
      "outputs": []
    },
    {
      "cell_type": "code",
      "source": [
        "json_data = xbrl.json()\n",
        "company_name = json_data.get(\"entityName\")\n",
        "facts = json_data.get(\"facts\")\n",
        "gaap_data = facts.get(\"us-gaap\")"
      ],
      "metadata": {
        "id": "xK6ZAJTopiZ5"
      },
      "execution_count": null,
      "outputs": []
    },
    {
      "cell_type": "code",
      "source": [
        "from collections import defaultdict\n",
        "\n",
        "financials_dict = defaultdict(lambda: defaultdict(list))\n",
        "\n",
        "# Extract the individual line items from the XBRL json and store in `financials_dict`\n",
        "for key, value in gaap_data.items():\n",
        "    units = value.get(\"units\")\n",
        "    financials: list = units.get(\"USD\")\n",
        "    if not financials:\n",
        "        continue\n",
        "    for financial in financials:\n",
        "        form = financial.get(\"form\")\n",
        "        if form != '10-K':\n",
        "            # Only take 10-K data\n",
        "            continue\n",
        "\n",
        "        accession_number = financial.get(\"accn\")\n",
        "\n",
        "        # If the accession_number is not in our expected 10-K list, skip it\n",
        "        if accession_number not in accession_numbers:\n",
        "          continue\n",
        "\n",
        "        value = financial.get(\"val\")\n",
        "        fp = financial.get(\"fp\")\n",
        "        fy = financial.get(\"fy\")\n",
        "        year = fp + str(fy)\n",
        "\n",
        "        financials_dict[year][key].append({\"value\": value, \"year\": year})"
      ],
      "metadata": {
        "id": "KWOvkz8tp8ho"
      },
      "execution_count": null,
      "outputs": []
    },
    {
      "cell_type": "code",
      "source": [
        "# Inspect the years of data that we have\n",
        "print(financials_dict.keys())\n",
        "# You can inspect all the data by uncommenting below\n",
        "# print(financials_dict)"
      ],
      "metadata": {
        "id": "l16Liw-xtd8F"
      },
      "execution_count": null,
      "outputs": []
    },
    {
      "cell_type": "markdown",
      "metadata": {
        "id": "1w9_dHFECwos"
      },
      "source": [
        "# Extract income statements from 10-K"
      ]
    },
    {
      "cell_type": "code",
      "execution_count": null,
      "metadata": {
        "id": "F8Opn4FIQcB8"
      },
      "outputs": [],
      "source": [
        "import instructor\n",
        "from openai import OpenAI\n",
        "from pydantic import BaseModel\n",
        "from pydantic import Field\n",
        "from enum import Enum\n",
        "from typing import Optional, Union, List\n",
        "\n",
        "# Define our income statement\n",
        "class IncomeStatement(BaseModel):\n",
        "  period: Optional[str]\n",
        "\n",
        "  revenue: Union[float, str] = Field(description=\"Revenue\")\n",
        "  cost_of_revenue: Union[float, str] = Field(description=\"Cost of revenue\")\n",
        "\n",
        "  general_and_administrative_expense: Union[float, str] = Field(description=\"General and administrative expenses\")\n",
        "  research_and_development_expense: Union[float, str] = Field(description=\"Research and development expenses\")\n",
        "  selling_and_marketing_expense: Union[float, str] = Field(description=\"Selling and marketing expenses\")\n",
        "  operating_income_loss: Union[float, str] = Field(description=\"Operating income loss\")\n",
        "\n",
        "  net_income_loss: Union[float, str] = Field(description=\"Net income or loss\")\n",
        "\n",
        "class IncomeStatements(BaseModel):\n",
        "  income_statements: List[IncomeStatement]"
      ]
    },
    {
      "cell_type": "code",
      "execution_count": null,
      "metadata": {
        "id": "ZrhBRaPGhw6-",
        "colab": {
          "base_uri": "https://localhost:8080/"
        },
        "outputId": "e23e261f-409d-4330-d6d4-94ebce8a8ba6"
      },
      "outputs": [
        {
          "output_type": "stream",
          "name": "stdout",
          "text": [
            "{\n",
            "  \"income_statements\": [\n",
            "    {\n",
            "      \"period\": \"FY2023\",\n",
            "      \"revenue\": 9917000000.0,\n",
            "      \"cost_of_revenue\": 1703000000.0,\n",
            "      \"general_and_administrative_expense\": 2025000000.0,\n",
            "      \"research_and_development_expense\": 1722000000.0,\n",
            "      \"selling_and_marketing_expense\": 1763000000.0,\n",
            "      \"operating_income_loss\": 1518000000.0,\n",
            "      \"net_income_loss\": 4792000000.0\n",
            "    },\n",
            "    {\n",
            "      \"period\": \"FY2022\",\n",
            "      \"revenue\": 8399000000.0,\n",
            "      \"cost_of_revenue\": 1499000000.0,\n",
            "      \"general_and_administrative_expense\": 950000000.0,\n",
            "      \"research_and_development_expense\": 1502000000.0,\n",
            "      \"selling_and_marketing_expense\": 1516000000.0,\n",
            "      \"operating_income_loss\": 1802000000.0,\n",
            "      \"net_income_loss\": 1893000000.0\n",
            "    },\n",
            "    {\n",
            "      \"period\": \"FY2021\",\n",
            "      \"revenue\": 5992000000.0,\n",
            "      \"cost_of_revenue\": 1156000000.0,\n",
            "      \"general_and_administrative_expense\": 836000000.0,\n",
            "      \"research_and_development_expense\": 1425000000.0,\n",
            "      \"selling_and_marketing_expense\": 1186000000.0,\n",
            "      \"operating_income_loss\": 429000000.0,\n",
            "      \"net_income_loss\": -352000000.0\n",
            "    }\n",
            "  ]\n",
            "}\n",
            "Took 14.464029312133789 seconds to complete!\n"
          ]
        }
      ],
      "source": [
        "import time\n",
        "import instructor\n",
        "from openai import OpenAI\n",
        "from pydantic import BaseModel\n",
        "from typing import List\n",
        "from rich.console import Console\n",
        "from anthropic import Anthropic\n",
        "\n",
        "\n",
        "client = instructor.patch(OpenAI())\n",
        "\n",
        "start = time.time()\n",
        "\n",
        "response = client.chat.completions.create(\n",
        "    model=\"gpt-4-0125-preview\",\n",
        "    response_model=instructor.Partial[IncomeStatements],\n",
        "    messages=[\n",
        "        {\n",
        "            \"role\": \"system\",\n",
        "            \"content\": \"You are an expert at extracting financial accounting data from JSON\",\n",
        "        },\n",
        "        {\n",
        "            \"role\": \"user\",\n",
        "            \"content\": f\"Extract the following fields {IncomeStatement.schema()} for FY2023, FY2022, and FY2021 from following context: ```{financials_dict}```\",\n",
        "        },\n",
        "    ],\n",
        ")\n",
        "\n",
        "print(response.model_dump_json(indent=2))\n",
        "\n",
        "print(f\"Took {time.time() - start} seconds to complete!\")"
      ]
    },
    {
      "cell_type": "markdown",
      "metadata": {
        "id": "1NBL7nLlnezZ"
      },
      "source": [
        "# Extract balance sheets from 10-K"
      ]
    },
    {
      "cell_type": "code",
      "execution_count": null,
      "metadata": {
        "id": "_z8asmgbnKcZ"
      },
      "outputs": [],
      "source": [
        "# Define Balance Sheet\n",
        "class BalanceSheet(BaseModel):\n",
        "  period: Optional[str]\n",
        "\n",
        "  # Assets\n",
        "  cash_and_cash_equivalents: Union[float, str] = Field(description=\"Cash and cash equivalents\")\n",
        "  short_term_investments: Union[float, str] = Field(description=\"Short-term investments\")\n",
        "  total_current_assets: Union[float, str] = Field(description=\"Total current assets\")\n",
        "  goodwill: Union[float, str] = Field(description=\"Goodwill\")\n",
        "  total_assets: Union[float, str] = Field(description=\"Assets\")\n",
        "\n",
        "  # Liabilities\n",
        "  current_accrued_liabilities: Union[float, str] = Field(description=\"Current accrued liabilities\")\n",
        "  current_accounts_payable: Union[float, str] = Field(description=\"Current accounts payable\")\n",
        "  current_accrued_liabilities: Union[float, str] = Field(description=\"Current accrued liabilities\")\n",
        "  long_term_debt: Union[float, str] = Field(description=\"Long term debt\")\n",
        "  operating_lease_liabilities: Union[float, str] = Field(description=\"Operating lease liabilities\")\n",
        "  other_non_current_liabilities: Union[float, str] = Field(description=\"Other non-current liabilities\")\n",
        "  total_liabilities: Union[float, str] = Field(description=\"Liabilities\")\n",
        "  stockholders_equity: Union[float, str] = Field(description=\"Stockholders equity\")\n",
        "\n",
        "class BalanceSheets(BaseModel):\n",
        "  balance_sheets: List[BalanceSheet]"
      ]
    },
    {
      "cell_type": "code",
      "execution_count": null,
      "metadata": {
        "id": "NGd1f4w9nezj",
        "colab": {
          "base_uri": "https://localhost:8080/"
        },
        "outputId": "0ba18b11-89cd-455c-eca3-5e1b0cc214d2"
      },
      "outputs": [
        {
          "output_type": "stream",
          "name": "stdout",
          "text": [
            "{\n",
            "  \"balance_sheets\": [\n",
            "    {\n",
            "      \"period\": \"FY2023\",\n",
            "      \"cash_and_cash_equivalents\": \"7378000000\",\n",
            "      \"short_term_investments\": \"2244000000\",\n",
            "      \"total_current_assets\": \"14861000000\",\n",
            "      \"goodwill\": \"650000000\",\n",
            "      \"total_assets\": \"16038000000\",\n",
            "      \"current_accrued_liabilities\": \"2654000000\",\n",
            "      \"current_accounts_payable\": \"137000000\",\n",
            "      \"long_term_debt\": \"1987000000\",\n",
            "      \"operating_lease_liabilities\": \"295000000\",\n",
            "      \"other_non_current_liabilities\": \"218000000\",\n",
            "      \"total_liabilities\": \"10478000000\",\n",
            "      \"stockholders_equity\": \"5560000000\"\n",
            "    },\n",
            "    {\n",
            "      \"period\": \"FY2022\",\n",
            "      \"cash_and_cash_equivalents\": \"6067000000\",\n",
            "      \"short_term_investments\": \"2255000000\",\n",
            "      \"total_current_assets\": \"12386000000\",\n",
            "      \"goodwill\": \"656000000\",\n",
            "      \"total_assets\": \"13708000000\",\n",
            "      \"current_accrued_liabilities\": \"6359000000\",\n",
            "      \"current_accounts_payable\": \"118000000\",\n",
            "      \"long_term_debt\": \"1983000000\",\n",
            "      \"operating_lease_liabilities\": \"372000000\",\n",
            "      \"other_non_current_liabilities\": \"219000000\",\n",
            "      \"total_liabilities\": \"8933000000\",\n",
            "      \"stockholders_equity\": \"4775000000\"\n",
            "    },\n",
            "    {\n",
            "      \"period\": \"FY2021\",\n",
            "      \"cash_and_cash_equivalents\": \"2013547000\",\n",
            "      \"short_term_investments\": \"910700000\",\n",
            "      \"total_current_assets\": \"8916386000\",\n",
            "      \"goodwill\": \"652088000\",\n",
            "      \"total_assets\": \"10491499000\",\n",
            "      \"current_accrued_liabilities\": \"5139779000\",\n",
            "      \"current_accounts_payable\": \"79898000\",\n",
            "      \"long_term_debt\": \"1815562000\",\n",
            "      \"operating_lease_liabilities\": \"56586000\",\n",
            "      \"other_non_current_liabilities\": \"203470000\",\n",
            "      \"total_liabilities\": \"7589716000\",\n",
            "      \"stockholders_equity\": \"2901783000\"\n",
            "    }\n",
            "  ]\n",
            "}\n",
            "Took 28.419937133789062 seconds to complete!\n"
          ]
        }
      ],
      "source": [
        "import time\n",
        "import instructor\n",
        "from openai import OpenAI\n",
        "from pydantic import BaseModel\n",
        "from typing import List\n",
        "from rich.console import Console\n",
        "from anthropic import Anthropic\n",
        "\n",
        "\n",
        "client = instructor.patch(OpenAI())\n",
        "\n",
        "start = time.time()\n",
        "\n",
        "response = client.chat.completions.create(\n",
        "    model=\"gpt-4-0125-preview\",\n",
        "    response_model=instructor.Partial[BalanceSheets],\n",
        "    messages=[\n",
        "        {\n",
        "            \"role\": \"system\",\n",
        "            \"content\": \"You are an expert at extracting financial accounting data from JSON\",\n",
        "        },\n",
        "        {\n",
        "            \"role\": \"user\",\n",
        "            \"content\": f\"Extract the following fields {BalanceSheet.schema()} for FY2023, FY2022, and FY2021 from following context: ```{financials_dict}```\",\n",
        "        },\n",
        "    ],\n",
        ")\n",
        "\n",
        "print(response.model_dump_json(indent=2))\n",
        "\n",
        "print(f\"Took {time.time() - start} seconds to complete!\")"
      ]
    },
    {
      "cell_type": "markdown",
      "metadata": {
        "id": "tQmaYq1NpQUd"
      },
      "source": [
        "# Extract cash flow statements from 10-K"
      ]
    },
    {
      "cell_type": "code",
      "execution_count": null,
      "metadata": {
        "id": "6ktk3hqSpQUd"
      },
      "outputs": [],
      "source": [
        "# Define Cash Flow Statement\n",
        "class CashFlowStatement(BaseModel):\n",
        "  period: Optional[str]\n",
        "\n",
        "  net_income: Union[float, str] = Field(description=\"Net income\")\n",
        "  depreciation_and_amortization: Union[float, str] = Field(description=\"Depreciation and amortization\")\n",
        "  shared_based_compensation: Union[float, str] = Field(description=\"Shared or stock-based compensation\")\n",
        "  net_cash_from_operating_activities: Union[float, str] = Field(description=\"Net cash provided by operating activities\")\n",
        "\n",
        "  net_cash_from_investing_activities: Union[float, str] = Field(description=\"Net cash provided by investing activities\")\n",
        "  plant_property_and_equipment: Union[float, str] = Field(description=\"Payments to acquire property plant and equipment\")\n",
        "\n",
        "  net_cash_from_financing_activities: Union[float, str] = Field(description=\"Net cash provided by financing activities\")\n",
        "\n",
        "class CashFlowStatements(BaseModel):\n",
        "  cash_flow_statements: List[CashFlowStatement]"
      ]
    },
    {
      "cell_type": "code",
      "execution_count": null,
      "metadata": {
        "id": "OQOqciK9pQUe",
        "colab": {
          "base_uri": "https://localhost:8080/"
        },
        "outputId": "91751d5f-2f36-47c9-beb2-dd2865b1cebd"
      },
      "outputs": [
        {
          "output_type": "stream",
          "name": "stdout",
          "text": [
            "{\n",
            "  \"cash_flow_statements\": [\n",
            "    {\n",
            "      \"period\": \"FY2023\",\n",
            "      \"net_income\": 4792000000.0,\n",
            "      \"depreciation_and_amortization\": 138000000.0,\n",
            "      \"shared_based_compensation\": 1120000000.0,\n",
            "      \"net_cash_from_operating_activities\": 3884000000.0,\n",
            "      \"net_cash_from_investing_activities\": -1042000000.0,\n",
            "      \"plant_property_and_equipment\": null,\n",
            "      \"net_cash_from_financing_activities\": -2430000000.0\n",
            "    },\n",
            "    {\n",
            "      \"period\": \"FY2022\",\n",
            "      \"net_income\": 1893000000.0,\n",
            "      \"depreciation_and_amortization\": 81000000.0,\n",
            "      \"shared_based_compensation\": 899000000.0,\n",
            "      \"net_cash_from_operating_activities\": 3430000000.0,\n",
            "      \"net_cash_from_investing_activities\": -28000000.0,\n",
            "      \"plant_property_and_equipment\": 25000000.0,\n",
            "      \"net_cash_from_financing_activities\": -689000000.0\n",
            "    },\n",
            "    {\n",
            "      \"period\": \"FY2021\",\n",
            "      \"net_income\": -674339000.0,\n",
            "      \"depreciation_and_amortization\": 125876000.0,\n",
            "      \"shared_based_compensation\": 3001948000.0,\n",
            "      \"net_cash_from_operating_activities\": 2189694000.0,\n",
            "      \"net_cash_from_investing_activities\": -1351955000.0,\n",
            "      \"plant_property_and_equipment\": 125452000.0,\n",
            "      \"net_cash_from_financing_activities\": 1431159000.0\n",
            "    }\n",
            "  ]\n",
            "}\n",
            "Took 20.65288782119751 seconds to complete!\n"
          ]
        }
      ],
      "source": [
        "import time\n",
        "import instructor\n",
        "from openai import OpenAI\n",
        "from pydantic import BaseModel\n",
        "from typing import List\n",
        "from rich.console import Console\n",
        "from anthropic import Anthropic\n",
        "\n",
        "\n",
        "client = instructor.patch(OpenAI())\n",
        "\n",
        "start = time.time()\n",
        "\n",
        "response = client.chat.completions.create(\n",
        "    model=\"gpt-4-0125-preview\",\n",
        "    response_model=instructor.Partial[CashFlowStatements],\n",
        "    messages=[\n",
        "        {\n",
        "            \"role\": \"system\",\n",
        "            \"content\": \"You are an expert at extracting financial accounting data from JSON\",\n",
        "        },\n",
        "        {\n",
        "            \"role\": \"user\",\n",
        "            \"content\": f\"Extract the following fields {CashFlowStatement.schema()} for FY2023, FY2022, and FY2021 from following context: ```{financials_dict}```\",\n",
        "        },\n",
        "    ],\n",
        ")\n",
        "\n",
        "print(response.model_dump_json(indent=2))\n",
        "\n",
        "print(f\"Took {time.time() - start} seconds to complete!\")"
      ]
    },
    {
      "cell_type": "code",
      "source": [],
      "metadata": {
        "id": "pcenlszC2eSO"
      },
      "execution_count": null,
      "outputs": []
    }
  ],
  "metadata": {
    "colab": {
      "provenance": [],
      "include_colab_link": true
    },
    "kernelspec": {
      "display_name": "Python 3",
      "name": "python3"
    },
    "language_info": {
      "name": "python"
    }
  },
  "nbformat": 4,
  "nbformat_minor": 0
}